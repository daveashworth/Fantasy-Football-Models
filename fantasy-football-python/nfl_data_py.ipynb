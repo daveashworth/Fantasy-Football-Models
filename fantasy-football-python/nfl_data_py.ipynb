{
 "cells": [
  {
   "cell_type": "code",
   "execution_count": 11,
   "id": "30106c6c-c397-49eb-a3b1-3592983faa14",
   "metadata": {},
   "outputs": [
    {
     "data": {
      "text/html": [
       "<div>\n",
       "<style scoped>\n",
       "    .dataframe tbody tr th:only-of-type {\n",
       "        vertical-align: middle;\n",
       "    }\n",
       "\n",
       "    .dataframe tbody tr th {\n",
       "        vertical-align: top;\n",
       "    }\n",
       "\n",
       "    .dataframe thead th {\n",
       "        text-align: right;\n",
       "    }\n",
       "</style>\n",
       "<table border=\"1\" class=\"dataframe\">\n",
       "  <thead>\n",
       "    <tr style=\"text-align: right;\">\n",
       "      <th></th>\n",
       "      <th>season</th>\n",
       "      <th>team</th>\n",
       "      <th>position</th>\n",
       "      <th>player_name</th>\n",
       "      <th>player_id</th>\n",
       "    </tr>\n",
       "  </thead>\n",
       "  <tbody>\n",
       "    <tr>\n",
       "      <th>0</th>\n",
       "      <td>2009</td>\n",
       "      <td>ARZ</td>\n",
       "      <td>C</td>\n",
       "      <td>Ben Claxton</td>\n",
       "      <td>00-0022018</td>\n",
       "    </tr>\n",
       "    <tr>\n",
       "      <th>1</th>\n",
       "      <td>2009</td>\n",
       "      <td>ARZ</td>\n",
       "      <td>C</td>\n",
       "      <td>Lyle Sendlein</td>\n",
       "      <td>00-0025682</td>\n",
       "    </tr>\n",
       "    <tr>\n",
       "      <th>2</th>\n",
       "      <td>2009</td>\n",
       "      <td>ARZ</td>\n",
       "      <td>CB</td>\n",
       "      <td>Michael Adams</td>\n",
       "      <td>00-0025668</td>\n",
       "    </tr>\n",
       "    <tr>\n",
       "      <th>3</th>\n",
       "      <td>2009</td>\n",
       "      <td>ARZ</td>\n",
       "      <td>CB</td>\n",
       "      <td>Ralph Brown</td>\n",
       "      <td>00-0019613</td>\n",
       "    </tr>\n",
       "    <tr>\n",
       "      <th>4</th>\n",
       "      <td>2009</td>\n",
       "      <td>ARZ</td>\n",
       "      <td>CB</td>\n",
       "      <td>Bryant McFadden</td>\n",
       "      <td>00-0023497</td>\n",
       "    </tr>\n",
       "    <tr>\n",
       "      <th>...</th>\n",
       "      <td>...</td>\n",
       "      <td>...</td>\n",
       "      <td>...</td>\n",
       "      <td>...</td>\n",
       "      <td>...</td>\n",
       "    </tr>\n",
       "    <tr>\n",
       "      <th>1694</th>\n",
       "      <td>2009</td>\n",
       "      <td>WAS</td>\n",
       "      <td>WR</td>\n",
       "      <td>Malcolm Kelly</td>\n",
       "      <td>00-0026191</td>\n",
       "    </tr>\n",
       "    <tr>\n",
       "      <th>1695</th>\n",
       "      <td>2009</td>\n",
       "      <td>WAS</td>\n",
       "      <td>WR</td>\n",
       "      <td>Marko Mitchell</td>\n",
       "      <td>00-0026959</td>\n",
       "    </tr>\n",
       "    <tr>\n",
       "      <th>1696</th>\n",
       "      <td>2009</td>\n",
       "      <td>WAS</td>\n",
       "      <td>WR</td>\n",
       "      <td>Santana Moss</td>\n",
       "      <td>00-0020494</td>\n",
       "    </tr>\n",
       "    <tr>\n",
       "      <th>1697</th>\n",
       "      <td>2009</td>\n",
       "      <td>WAS</td>\n",
       "      <td>WR</td>\n",
       "      <td>Antwaan Randle El</td>\n",
       "      <td>00-0021190</td>\n",
       "    </tr>\n",
       "    <tr>\n",
       "      <th>1698</th>\n",
       "      <td>2009</td>\n",
       "      <td>WAS</td>\n",
       "      <td>WR</td>\n",
       "      <td>Devin Thomas</td>\n",
       "      <td>00-0026174</td>\n",
       "    </tr>\n",
       "  </tbody>\n",
       "</table>\n",
       "<p>1696 rows × 5 columns</p>\n",
       "</div>"
      ],
      "text/plain": [
       "      season team position        player_name   player_id\n",
       "0       2009  ARZ        C        Ben Claxton  00-0022018\n",
       "1       2009  ARZ        C      Lyle Sendlein  00-0025682\n",
       "2       2009  ARZ       CB      Michael Adams  00-0025668\n",
       "3       2009  ARZ       CB        Ralph Brown  00-0019613\n",
       "4       2009  ARZ       CB    Bryant McFadden  00-0023497\n",
       "...      ...  ...      ...                ...         ...\n",
       "1694    2009  WAS       WR      Malcolm Kelly  00-0026191\n",
       "1695    2009  WAS       WR     Marko Mitchell  00-0026959\n",
       "1696    2009  WAS       WR       Santana Moss  00-0020494\n",
       "1697    2009  WAS       WR  Antwaan Randle El  00-0021190\n",
       "1698    2009  WAS       WR       Devin Thomas  00-0026174\n",
       "\n",
       "[1696 rows x 5 columns]"
      ]
     },
     "execution_count": 11,
     "metadata": {},
     "output_type": "execute_result"
    }
   ],
   "source": [
    "import nfl_data_py as nfl\n",
    "\n",
    "nfl.import_rosters([2009],['season','team','position','player_name','player_id'])"
   ]
  },
  {
   "cell_type": "code",
   "execution_count": 8,
   "id": "ef350def-f7bf-45df-8cfd-bae11ed19d38",
   "metadata": {},
   "outputs": [
    {
     "data": {
      "text/plain": [
       "['season', 'team', 'position', 'player_name', 'player_id']"
      ]
     },
     "execution_count": 8,
     "metadata": {},
     "output_type": "execute_result"
    }
   ],
   "source": [
    "list(rosters_2009)"
   ]
  },
  {
   "cell_type": "raw",
   "id": "38ab51eb-8336-486f-8def-31a363ceebff",
   "metadata": {},
   "source": [
    "print(rosters_2009)"
   ]
  },
  {
   "cell_type": "code",
   "execution_count": 10,
   "id": "65760801-72a6-4eed-b479-27f237c26a25",
   "metadata": {},
   "outputs": [
    {
     "ename": "TypeError",
     "evalue": "'numpy.ndarray' object is not callable",
     "output_type": "error",
     "traceback": [
      "\u001b[0;31m---------------------------------------------------------------------------\u001b[0m",
      "\u001b[0;31mTypeError\u001b[0m                                 Traceback (most recent call last)",
      "\u001b[0;32m/var/folders/8q/mwds2yxx4538sqk5yqqrm4nr0000gn/T/ipykernel_52751/2935701104.py\u001b[0m in \u001b[0;36m<module>\u001b[0;34m\u001b[0m\n\u001b[0;32m----> 1\u001b[0;31m \u001b[0mrosters_2009\u001b[0m\u001b[0;34m.\u001b[0m\u001b[0mvalues\u001b[0m\u001b[0;34m(\u001b[0m\u001b[0;34m)\u001b[0m\u001b[0;34m\u001b[0m\u001b[0;34m\u001b[0m\u001b[0m\n\u001b[0m",
      "\u001b[0;31mTypeError\u001b[0m: 'numpy.ndarray' object is not callable"
     ]
    }
   ],
   "source": [
    "rosters_2009.values()"
   ]
  },
  {
   "cell_type": "code",
   "execution_count": null,
   "id": "c26f811f-d9c5-4302-afc2-4e904872b32b",
   "metadata": {},
   "outputs": [],
   "source": []
  }
 ],
 "metadata": {
  "kernelspec": {
   "display_name": "Python 3 (ipykernel)",
   "language": "python",
   "name": "python3"
  },
  "language_info": {
   "codemirror_mode": {
    "name": "ipython",
    "version": 3
   },
   "file_extension": ".py",
   "mimetype": "text/x-python",
   "name": "python",
   "nbconvert_exporter": "python",
   "pygments_lexer": "ipython3",
   "version": "3.9.7"
  }
 },
 "nbformat": 4,
 "nbformat_minor": 5
}
